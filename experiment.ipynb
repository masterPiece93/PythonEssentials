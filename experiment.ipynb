{
 "cells": [
  {
   "cell_type": "markdown",
   "metadata": {},
   "source": [
    "# Extracting keys from dictionary"
   ]
  },
  {
   "cell_type": "markdown",
   "metadata": {},
   "source": [
    "```\n",
    "d = {\"name\":\"ankit\", \"age\":29, \"sex\":\"Male\"}\n",
    "name, age, sex = ...(d)('name', 'age', 'sex')\n",
    "print(f\"name: {name}, age: {age}, sex: {sex}\")\n",
    "```"
   ]
  },
  {
   "cell_type": "code",
   "execution_count": 3,
   "metadata": {},
   "outputs": [],
   "source": [
    "# Implement\n"
   ]
  },
  {
   "cell_type": "markdown",
   "metadata": {},
   "source": [
    "```\n",
    "d = {\"name\":\"ankit\", \"age\":29, \"sex\":\"Male\"}\n",
    "name, age, sex = ...(d)['name', 'age', 'sex']\n",
    "print(f\"name: {name}, age: {age}, sex: {sex}\")\n",
    "```"
   ]
  },
  {
   "cell_type": "code",
   "execution_count": 5,
   "metadata": {},
   "outputs": [],
   "source": [
    "# Implement"
   ]
  },
  {
   "cell_type": "markdown",
   "metadata": {},
   "source": [
    "way 1"
   ]
  },
  {
   "cell_type": "code",
   "execution_count": 59,
   "metadata": {},
   "outputs": [
    {
     "name": "stdout",
     "output_type": "stream",
     "text": [
      "ankit 29\n",
      "ankit\n",
      "29\n"
     ]
    }
   ],
   "source": [
    "from collections import namedtuple\n",
    "class un:\n",
    "    def __init__(self,*keys):\n",
    "        self.keys=keys\n",
    "        self._obj = namedtuple('obj', self.keys, defaults=[None]*len(self.keys))\n",
    "        self._values = self._obj()\n",
    "    @property\n",
    "    def values(self):\n",
    "        return self._values\n",
    "    def __lshift__(self, other):\n",
    "        out_values = ()\n",
    "        if isinstance(other, dict):\n",
    "            for key in self.keys:\n",
    "                out_values += (other[key],)\n",
    "            self._values = self._obj(*out_values)\n",
    "        return out_values\n",
    "\n",
    "name, age = un('name', 'age') << {\"name\":\"ankit\", \"age\":29, \"sex\":\"Male\"}\n",
    "\n",
    "print(name, age)\n",
    "\n",
    "_ = un('name', 'age') \n",
    "name, age = _ << {\"name\":\"ankit\", \"age\":29, \"sex\":\"Male\"}\n",
    "print(_.values.name)\n",
    "print(_.values.age)"
   ]
  },
  {
   "cell_type": "markdown",
   "metadata": {},
   "source": [
    "way 2\n"
   ]
  },
  {
   "cell_type": "code",
   "execution_count": 4,
   "metadata": {},
   "outputs": [
    {
     "name": "stdout",
     "output_type": "stream",
     "text": [
      "name: ankit, age: 29, sex: Male\n"
     ]
    }
   ],
   "source": [
    " \n",
    "d = {\"name\":\"ankit\", \"age\":29, \"sex\":\"Male\"}\n",
    "name, age, sex = d.values()\n",
    "print(f\"name: {name}, age: {age}, sex: {sex}\")"
   ]
  },
  {
   "cell_type": "markdown",
   "metadata": {},
   "source": [
    "way 3"
   ]
  },
  {
   "cell_type": "code",
   "execution_count": 15,
   "metadata": {},
   "outputs": [
    {
     "name": "stdout",
     "output_type": "stream",
     "text": [
      "name: ankit, sex: Male\n"
     ]
    }
   ],
   "source": [
    "class un:\n",
    "    def __init__(self, obj):\n",
    "        self.obj = obj\n",
    "    def __getitem__(self, keys):\n",
    "        out_values = ()\n",
    "        for key in keys:\n",
    "            out_values += (self.obj[key],)\n",
    "        return out_values\n",
    "\n",
    "d = {\"name\":\"ankit\", \"age\":29, \"sex\":\"Male\"}\n",
    "unpack = un(d, find_anywhere=True)\n",
    "name, sex = unpack['name', 'sex']\n",
    "print(f\"name: {name}, sex: {sex}\")\n",
    "\n"
   ]
  }
 ],
 "metadata": {
  "interpreter": {
   "hash": "f9f85f796d01129d0dd105a088854619f454435301f6ffec2fea96ecbd9be4ac"
  },
  "kernelspec": {
   "display_name": "Python 3.9.13 64-bit",
   "language": "python",
   "name": "python3"
  },
  "language_info": {
   "codemirror_mode": {
    "name": "ipython",
    "version": 3
   },
   "file_extension": ".py",
   "mimetype": "text/x-python",
   "name": "python",
   "nbconvert_exporter": "python",
   "pygments_lexer": "ipython3",
   "version": "3.9.13"
  },
  "orig_nbformat": 4
 },
 "nbformat": 4,
 "nbformat_minor": 2
}
